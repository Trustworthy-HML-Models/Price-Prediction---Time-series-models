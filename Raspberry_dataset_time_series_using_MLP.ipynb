{
  "nbformat": 4,
  "nbformat_minor": 0,
  "metadata": {
    "colab": {
      "provenance": []
    },
    "kernelspec": {
      "name": "python3",
      "display_name": "Python 3"
    },
    "language_info": {
      "name": "python"
    }
  },
  "cells": [
    {
      "cell_type": "code",
      "execution_count": null,
      "metadata": {
        "colab": {
          "base_uri": "https://localhost:8080/"
        },
        "id": "pKVX-M-1lTYf",
        "outputId": "89a9b72a-2ea2-452c-bde0-89255b324243"
      },
      "outputs": [
        {
          "output_type": "stream",
          "name": "stderr",
          "text": [
            "/usr/local/lib/python3.7/dist-packages/ipykernel_launcher.py:7: FutureWarning: The pandas.datetime class is deprecated and will be removed from pandas in a future version. Import from datetime module instead.\n",
            "  import sys\n"
          ]
        }
      ],
      "source": [
        "# evaluate mlp for monthly car sales dataset\n",
        "\n",
        "from pandas import DataFrame\n",
        "from pandas import Series\n",
        "from pandas import concat\n",
        "from pandas import read_csv\n",
        "from pandas import datetime\n",
        "from sklearn.metrics import mean_squared_error\n",
        "from sklearn.preprocessing import MinMaxScaler\n",
        "from keras.models import Sequential\n",
        "from keras.layers import Dense\n",
        "from matplotlib import pyplot\n",
        "import matplotlib.pyplot as plt\n",
        "import pandas as pd\n",
        "import numpy as np\n",
        "from time import time\n",
        "from datetime import timedelta\n",
        "from math import sqrt\n",
        "from numpy import array\n",
        "from numpy import mean\n",
        "from numpy import std\n",
        "from sklearn.metrics import mean_squared_error\n",
        "\n"
      ]
    },
    {
      "cell_type": "code",
      "source": [
        "def parser(x):\n",
        "\treturn datetime.strptime(x, '%d-%b-%y')"
      ],
      "metadata": {
        "id": "ZKaKmSCcmQqQ"
      },
      "execution_count": null,
      "outputs": []
    },
    {
      "cell_type": "code",
      "source": [
        "\n",
        "# split a univariate dataset into train/test sets\n",
        "def train_test_split():\n",
        "  train_end = datetime(2019,1,1)\n",
        "  val_end = datetime(2020,6,1)\n",
        "  test_end = datetime(2022,3,1)\n",
        "\n",
        "  train_data = series[:train_end]\n",
        "  val_data = series[train_end + timedelta(days=1):val_end]\n",
        "  test_data = series[val_end + timedelta(days=1):test_end]\n",
        "\n",
        "  return train_data.values, val_data.values,  test_data.values\n",
        ""
      ],
      "metadata": {
        "id": "n73CF1temgeG"
      },
      "execution_count": null,
      "outputs": []
    },
    {
      "cell_type": "code",
      "source": [
        "# transform list into supervised learning format\n",
        "def series_to_supervised(data, n_in, n_out=1):\n",
        "  df = DataFrame(data)\n",
        "  cols = list()\n",
        "  # input sequence (t-n, ... t-1)\n",
        "  for i in range(n_in, 0, -1):\n",
        "    cols.append(df.shift(i))\n",
        "  # forecast sequence (t, t+1, ... t+n)\n",
        "  for i in range(0, n_out):\n",
        "    cols.append(df.shift(-i))\n",
        "  # put it all together\n",
        "  agg = concat(cols, axis=1)\n",
        "  # drop rows with NaN values\n",
        "  agg.dropna(inplace=True)\n",
        "  return agg.values"
      ],
      "metadata": {
        "id": "KXN35nubmza4"
      },
      "execution_count": null,
      "outputs": []
    },
    {
      "cell_type": "code",
      "source": [
        "# root mean squared error or rmse\n",
        "def measure_rmse(actual, predicted):\n",
        "    return sqrt(mean_squared_error(actual, predicted))"
      ],
      "metadata": {
        "id": "vCZhlV8tm22i"
      },
      "execution_count": null,
      "outputs": []
    },
    {
      "cell_type": "code",
      "source": [
        "def measure_mse(actual, predicted):\n",
        "    return mean_squared_error(actual, predicted)"
      ],
      "metadata": {
        "id": "IocI0uSHRjog"
      },
      "execution_count": null,
      "outputs": []
    },
    {
      "cell_type": "code",
      "source": [
        "def measure_R2(actual, predicted):\n",
        "  a,b,c=train_test_split()\n",
        "  rolling_residuals = b - predicted\n",
        "  ss_res = np.sum(rolling_residuals**2)\n",
        "  ss_tot = np.sum(b**2)\n",
        "  R_squared = 1 - (ss_res/ss_tot)\n",
        "  print(R_squared)\n",
        "  return R_squared"
      ],
      "metadata": {
        "id": "z57uy4dATMlq"
      },
      "execution_count": null,
      "outputs": []
    },
    {
      "cell_type": "code",
      "source": [
        "def plotting(actual, predicted):\n",
        "  pyplot.plot(actual)\n",
        "  pyplot.plot(predicted)\n",
        "  pyplot.show()\n"
      ],
      "metadata": {
        "id": "DpZYV5vj1Bd3"
      },
      "execution_count": null,
      "outputs": []
    },
    {
      "cell_type": "code",
      "source": [
        "# fit a model\n",
        "def model_fit(train, config):\n",
        "  # unpack config\n",
        "  n_input, n_nodes, n_epochs, n_batch = config\n",
        "  # prepare data\n",
        "  data = series_to_supervised(train, n_input)\n",
        "  train_x, train_y = data[:, :-1], data[:, -1]\n",
        "  # define model\n",
        "  model = Sequential()\n",
        "  model.add(Dense(n_nodes, activation='relu', input_dim=n_input))\n",
        "  model.add(Dense(1))\n",
        "  model.compile(loss='mse', optimizer='adam')\n",
        "  # fit\n",
        "  model.fit(train_x, train_y, epochs=n_epochs, batch_size=n_batch, verbose=0)\n",
        "  return model"
      ],
      "metadata": {
        "id": "QFDTl62im8Y6"
      },
      "execution_count": null,
      "outputs": []
    },
    {
      "cell_type": "code",
      "source": [
        "# forecast with a pre-fit model\n",
        "def model_predict(model, history, config):\n",
        "  # unpack config\n",
        "  n_input, _, _, _ = config\n",
        "  # prepare data\n",
        "  x_input = array(history[-n_input:]).reshape(1, n_input)\n",
        "  # forecast\n",
        "  yhat = model.predict(x_input, verbose=0)\n",
        "  return yhat[0]"
      ],
      "metadata": {
        "id": "Zc8cl1_RnKxq"
      },
      "execution_count": null,
      "outputs": []
    },
    {
      "cell_type": "code",
      "source": [
        "\n",
        "# walk-forward validation for univariate data\n",
        "def walk_forward_validation(data, n_test, cfg):\n",
        "  predictions = list()\n",
        "\n",
        "  # split dataset\n",
        "  train,val,test = train_test_split()\n",
        "  # fit model\n",
        "  model = model_fit(train, cfg)\n",
        "  # seed history with training dataset\n",
        "  history = [x for x in train]\n",
        "  # step over each time-step in the val set\n",
        "  for i in range(len(val)):\n",
        "    # fit model and make forecast for history\n",
        "    yhat = model_predict(model, history, cfg)\n",
        "    # store forecast in list of predictions\n",
        "    predictions.append(yhat)\n",
        "    # add actual observation to history for the next loop\n",
        "    history.append(val[i])\n",
        "  # estimate prediction error\n",
        "\n",
        "  error1 = measure_rmse(val, predictions)\n",
        "  error2 = measure_mse(val, predictions)\n",
        "  error3 = measure_R2(val, predictions)\n",
        "  graph = plotting(val, predictions)\n",
        "  print(' > %.3f' % error1)\n",
        "  print(' > %.3f' % error2)\n",
        "  print(' > %.3f' % error3)\n",
        "  return error1,error2,error3\n"
      ],
      "metadata": {
        "id": "9P40bQ3_nTii"
      },
      "execution_count": null,
      "outputs": []
    },
    {
      "cell_type": "code",
      "source": [
        "# repeat evaluation of a config\n",
        "def repeat_evaluate(data, config, n_test, n_repeats=1):\n",
        "  # fit and evaluate the model n times\n",
        "  RMSE,MSE,R2= walk_forward_validation(data, n_test, config)\n",
        "  RMSE_scores = [RMSE for _ in range(n_repeats)]\n",
        "  MSE_scores = [MSE for _ in range(n_repeats)]\n",
        "  R2_scores = [R2 for _ in range(n_repeats)]\n",
        "\n",
        "  return RMSE_scores, MSE_scores, R2_scores"
      ],
      "metadata": {
        "id": "rg3eka_Jnh2P"
      },
      "execution_count": null,
      "outputs": []
    },
    {
      "cell_type": "code",
      "source": [
        "# summarize model performance\n",
        "def summarize_scores(name, scores):\n",
        "  # print a summary\n",
        "  scores_m, score_std = mean(scores), std(scores)\n",
        "  print(name, scores_m, score_std)\n",
        "  # box and whisker plot\n",
        "  #pyplot.boxplot(scores)\n",
        "  #pyplot.show()\n"
      ],
      "metadata": {
        "id": "Sr3VMGMCnmwx"
      },
      "execution_count": null,
      "outputs": []
    },
    {
      "cell_type": "code",
      "source": [
        "series = read_csv('/content/sample_data/Raspberry.csv', header=0, parse_dates=[0], index_col=0, squeeze=True, date_parser=parser)\n",
        "data = series.values\n",
        "series"
      ],
      "metadata": {
        "colab": {
          "base_uri": "https://localhost:8080/"
        },
        "id": "MRDSzbyHlbks",
        "outputId": "17e13998-c08d-46be-e0bb-6f6a50fa6cfa"
      },
      "execution_count": null,
      "outputs": [
        {
          "output_type": "execute_result",
          "data": {
            "text/plain": [
              "Date\n",
              "2010-11-19    2.40\n",
              "2010-11-26    2.51\n",
              "2010-12-03    2.24\n",
              "2010-12-10    2.73\n",
              "2010-12-17    3.32\n",
              "              ... \n",
              "2022-01-28    2.67\n",
              "2022-02-04    2.68\n",
              "2022-02-11    2.48\n",
              "2022-02-18    2.83\n",
              "2022-02-25    2.79\n",
              "Name: Price, Length: 589, dtype: float64"
            ]
          },
          "metadata": {},
          "execution_count": 32
        }
      ]
    },
    {
      "cell_type": "code",
      "source": [
        "# data split\n",
        "n_test = 91\n",
        "# define config\n",
        "config = [74, 4, 1500, 100]\n",
        "# grid search\n",
        "RMSE_score,MSE_score,R2_score = repeat_evaluate(data, config, n_test)\n",
        "# summarize scores\n",
        "summarize_scores('mlp', RMSE_score)\n",
        "summarize_scores('mlp', MSE_score)\n",
        "summarize_scores('mlp', R2_score)\n",
        "\n",
        "\n"
      ],
      "metadata": {
        "colab": {
          "base_uri": "https://localhost:8080/",
          "height": 392
        },
        "id": "KEs7duj9od6E",
        "outputId": "20edb77d-32d8-4644-cf74-d9ba5bd9d415"
      },
      "execution_count": null,
      "outputs": [
        {
          "output_type": "stream",
          "name": "stdout",
          "text": [
            "-0.3384800744666461\n"
          ]
        },
        {
          "output_type": "display_data",
          "data": {
            "text/plain": [
              "<Figure size 432x288 with 1 Axes>"
            ],
            "image/png": "[encoded data removed]"
          },
          "metadata": {
            "needs_background": "light"
          }
        },
        {
          "output_type": "stream",
          "name": "stdout",
          "text": [
            " > 0.278\n",
            " > 0.077\n",
            " > -0.338\n",
            "mlp 0.27761306440173933 0.0\n",
            "mlp 0.07706901352652427 0.0\n",
            "mlp -0.3384800744666461 0.0\n"
          ]
        }
      ]
    }
  ]
}