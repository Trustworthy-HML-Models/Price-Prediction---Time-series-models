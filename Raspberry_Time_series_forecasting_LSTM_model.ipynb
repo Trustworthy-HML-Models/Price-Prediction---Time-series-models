{
  "nbformat": 4,
  "nbformat_minor": 0,
  "metadata": {
    "colab": {
      "provenance": []
    },
    "kernelspec": {
      "name": "python3",
      "display_name": "Python 3"
    },
    "language_info": {
      "name": "python"
    }
  },
  "cells": [
    {
      "cell_type": "code",
      "execution_count": null,
      "metadata": {
        "colab": {
          "base_uri": "https://localhost:8080/"
        },
        "id": "fUmFEdRZ8dYe",
        "outputId": "8f7e4eae-6283-4da9-cf66-f50155d996c1"
      },
      "outputs": [
        {
          "output_type": "stream",
          "name": "stderr",
          "text": [
            "/usr/local/lib/python3.7/dist-packages/ipykernel_launcher.py:5: FutureWarning: The pandas.datetime class is deprecated and will be removed from pandas in a future version. Import from datetime module instead.\n",
            "  \"\"\"\n"
          ]
        }
      ],
      "source": [
        "from pandas import DataFrame\n",
        "from pandas import Series\n",
        "from pandas import concat\n",
        "from pandas import read_csv\n",
        "from pandas import datetime\n",
        "from sklearn.metrics import mean_squared_error\n",
        "from sklearn.preprocessing import MinMaxScaler\n",
        "from keras.models import Sequential\n",
        "from keras.layers import Dense\n",
        "from keras.layers import LSTM\n",
        "from math import sqrt\n",
        "from matplotlib import pyplot\n",
        "import matplotlib.pyplot as plt\n",
        "import pandas as pd\n",
        "import numpy as np\n",
        "from time import time\n",
        "from datetime import timedelta"
      ]
    },
    {
      "cell_type": "code",
      "source": [
        "# date-time parsing function for loading the dataset\n",
        "def parser(x):\n",
        "\treturn datetime.strptime(x, '%d-%b-%y')"
      ],
      "metadata": {
        "id": "1qY0CVG89vXf"
      },
      "execution_count": null,
      "outputs": []
    },
    {
      "cell_type": "code",
      "source": [
        "# frame a sequence as a supervised learning problem\n",
        "def timeseries_to_supervised(data, lag=1):\n",
        "\tdf = DataFrame(data)\n",
        "\tcolumns = [df.shift(i) for i in range(1, lag+1)]\n",
        "\tcolumns.append(df)\n",
        "\tdf = concat(columns, axis=1)\n",
        "\tdf.fillna(0, inplace=True)\n",
        "\treturn df"
      ],
      "metadata": {
        "id": "Ua2SvY5P9zRU"
      },
      "execution_count": null,
      "outputs": []
    },
    {
      "cell_type": "code",
      "source": [
        "# create a differenced series\n",
        "#def difference(dataset, interval=1):\n",
        "#\tdiff = list()\n",
        "#\tfor i in range(interval, len(dataset)):\n",
        "#\t\tvalue = dataset[i] - dataset[i - interval]\n",
        "#\t\tdiff.append(value)\n",
        "#\treturn Series(diff)"
      ],
      "metadata": {
        "id": "e4N6g6dj-Aox"
      },
      "execution_count": null,
      "outputs": []
    },
    {
      "cell_type": "code",
      "source": [
        "# invert differenced value\n",
        "#def inverse_difference(history, yhat, interval=1):\n",
        "#\treturn yhat + history[-interval]"
      ],
      "metadata": {
        "id": "Sbkm2dMz-KPC"
      },
      "execution_count": null,
      "outputs": []
    },
    {
      "cell_type": "code",
      "source": [
        " # scale train and test data to [-1, 1]\n",
        "def scale(train,val,test):\n",
        "\t# fit scaler\n",
        "\tscaler = MinMaxScaler(feature_range=(-1, 1))\n",
        "\tscaler = scaler.fit(train)\n",
        "\t# transform train\n",
        "\ttrain = train.reshape(train.shape[0], train.shape[1])\n",
        "\ttrain_scaled = scaler.transform(train)\n",
        " \t# transform val\n",
        "\tval = val.reshape(val.shape[0], val.shape[1])\n",
        "\tval_scaled = scaler.transform(val)\n",
        "\t# transform test\n",
        "\ttest = test.reshape(test.shape[0], test.shape[1])\n",
        "\ttest_scaled = scaler.transform(test)\n",
        "\treturn scaler, train_scaled,val_scaled,test_scaled"
      ],
      "metadata": {
        "id": "dUr6G1SH-NRM"
      },
      "execution_count": null,
      "outputs": []
    },
    {
      "cell_type": "code",
      "source": [
        "# inverse scaling for a forecasted value\n",
        "def invert_scale(scaler, X, value):\n",
        "\tnew_row = [x for x in X] + [value]\n",
        "\tarray = np.array(new_row)\n",
        "\tarray = array.reshape(1, len(array))\n",
        "\tinverted = scaler.inverse_transform(array)\n",
        "\treturn inverted[0, -1]"
      ],
      "metadata": {
        "id": "JGWGyuhPIZ7u"
      },
      "execution_count": null,
      "outputs": []
    },
    {
      "cell_type": "code",
      "source": [
        "# fit an LSTM network to training data\n",
        "def fit_lstm(train, batch_size, nb_epoch, neurons):\n",
        "\tX, y = train[:, 0:-1], train[:, -1]\n",
        "\tX = X.reshape(X.shape[0], 1, X.shape[1])\n",
        "\tmodel = Sequential()\n",
        "\tmodel.add(LSTM(neurons, batch_input_shape=(batch_size, X.shape[1], X.shape[2]), stateful=True))\n",
        "\tmodel.add(Dense(1))\n",
        "\tmodel.compile(loss='mean_squared_error', optimizer='adam')\n",
        "\tfor i in range(nb_epoch):\n",
        "\t\tmodel.fit(X, y, epochs=1, batch_size=batch_size, verbose=0, shuffle=False)\n",
        "\t\tmodel.reset_states()\n",
        "\treturn model"
      ],
      "metadata": {
        "id": "8dxYfYb7IgA9"
      },
      "execution_count": null,
      "outputs": []
    },
    {
      "cell_type": "code",
      "source": [
        "# make a one-step forecast\n",
        "def forecast_lstm(model, batch_size, X):\n",
        "\tX = X.reshape(1, 1, len(X))\n",
        "\tyhat = model.predict(X, batch_size=batch_size)\n",
        "\treturn yhat[0,0]"
      ],
      "metadata": {
        "id": "qmyIoMCOIncq"
      },
      "execution_count": null,
      "outputs": []
    },
    {
      "cell_type": "code",
      "source": [
        "# load dataset\n",
        "series = read_csv('/content/sample_data/Raspberry.csv', header=0, parse_dates=[0], index_col=0, squeeze=True, date_parser=parser)"
      ],
      "metadata": {
        "id": "yC0jNIkRJAxv"
      },
      "execution_count": null,
      "outputs": []
    },
    {
      "cell_type": "code",
      "source": [
        "series"
      ],
      "metadata": {
        "colab": {
          "base_uri": "https://localhost:8080/"
        },
        "id": "fRPwtp7LJ7-a",
        "outputId": "7894dd5a-977b-4a4f-f662-1f55a8fc530c"
      },
      "execution_count": null,
      "outputs": [
        {
          "output_type": "execute_result",
          "data": {
            "text/plain": [
              "Date\n",
              "2010-11-19    2.40\n",
              "2010-11-26    2.51\n",
              "2010-12-03    2.24\n",
              "2010-12-10    2.73\n",
              "2010-12-17    3.32\n",
              "              ... \n",
              "2022-01-28    2.67\n",
              "2022-02-04    2.68\n",
              "2022-02-11    2.48\n",
              "2022-02-18    2.83\n",
              "2022-02-25    2.79\n",
              "Name: Price, Length: 589, dtype: float64"
            ]
          },
          "metadata": {},
          "execution_count": 90
        }
      ]
    },
    {
      "cell_type": "code",
      "source": [
        "# split data into train, val and test-sets\n",
        "#train,val,test = supervised_values[0:-12], supervised_values[-12:]\n",
        "\n",
        "train_end = datetime(2019,1,1)\n",
        "val_end = datetime(2020,6,1)\n",
        "test_end = datetime(2022,3,1)\n",
        "\n",
        "train_data = series[:train_end]\n",
        "val_data = series[train_end + timedelta(days=1):val_end]\n",
        "test_data = series[val_end + timedelta(days=1):test_end]\n",
        "\n",
        "len(train_data),len(val_data),len(test_data)\n"
      ],
      "metadata": {
        "colab": {
          "base_uri": "https://localhost:8080/"
        },
        "id": "b0SzAbUcJabd",
        "outputId": "776edc86-aa17-4cd2-896f-8aee7cfbd931"
      },
      "execution_count": null,
      "outputs": [
        {
          "output_type": "execute_result",
          "data": {
            "text/plain": [
              "(424, 74, 91)"
            ]
          },
          "metadata": {},
          "execution_count": 11
        }
      ]
    },
    {
      "cell_type": "code",
      "source": [
        "# transform data to be stationary\n",
        "raw_train_values = train_data.values\n",
        "raw_val_values = val_data.values\n",
        "raw_test_values = test_data.values\n",
        "\n",
        "#diff_train_values = difference(raw_train_values, 1)\n",
        "#diff_val_values = difference(raw_val_values, 1)\n",
        "#diff_test_values = difference(raw_test_values, 1)\n"
      ],
      "metadata": {
        "id": "La4seu9MLHJF"
      },
      "execution_count": null,
      "outputs": []
    },
    {
      "cell_type": "code",
      "source": [
        "# transform data to be supervised learning\n",
        "supervised_train = timeseries_to_supervised(raw_train_values, 1)\n",
        "supervised_val = timeseries_to_supervised(raw_val_values, 1)\n",
        "supervised_test = timeseries_to_supervised(raw_test_values, 1)\n",
        "\n",
        "supervised_train_values = supervised_train.values\n",
        "supervised_val_values = supervised_val.values\n",
        "supervised_test_values = supervised_test.values\n",
        "len(supervised_val_values)"
      ],
      "metadata": {
        "colab": {
          "base_uri": "https://localhost:8080/"
        },
        "id": "Sev3WxNWLHLF",
        "outputId": "dbcbe37c-3e7b-4ce1-d62f-f8a1215ee963"
      },
      "execution_count": null,
      "outputs": [
        {
          "output_type": "execute_result",
          "data": {
            "text/plain": [
              "74"
            ]
          },
          "metadata": {},
          "execution_count": 13
        }
      ]
    },
    {
      "cell_type": "code",
      "source": [
        " # transform the scale of the data\n",
        "scaler, train_scaled,val_scaled,test_scaled = scale(supervised_train_values,supervised_val_values,supervised_test_values)"
      ],
      "metadata": {
        "id": "bNevNhzdLHNr"
      },
      "execution_count": null,
      "outputs": []
    },
    {
      "cell_type": "code",
      "source": [
        "# repeat experiment\n",
        "#repeats = 30\n",
        "#error_scores = list()\n",
        "#for r in range(repeats):\n",
        "\t# fit the model\n",
        "lstm_model = fit_lstm(train_scaled, 1, 1500, 4)\n",
        "\n",
        "# forecast the entire training dataset to build up state for forecasting\n"
      ],
      "metadata": {
        "id": "dtVs9x_s8tmA"
      },
      "execution_count": null,
      "outputs": []
    },
    {
      "cell_type": "code",
      "source": [
        "train_reshaped = train_scaled[:, 0].reshape(len(train_scaled), 1, 1)\n"
      ],
      "metadata": {
        "id": "CSKDvPBFw4I3"
      },
      "execution_count": null,
      "outputs": []
    },
    {
      "cell_type": "code",
      "source": [
        "len(raw_val_values)"
      ],
      "metadata": {
        "colab": {
          "base_uri": "https://localhost:8080/"
        },
        "id": "MibpArN42VG0",
        "outputId": "72c016c5-dd5b-4aed-b667-e1d1d122e95d"
      },
      "execution_count": null,
      "outputs": [
        {
          "output_type": "execute_result",
          "data": {
            "text/plain": [
              "74"
            ]
          },
          "metadata": {},
          "execution_count": 17
        }
      ]
    },
    {
      "cell_type": "code",
      "source": [
        "lstm_model.predict(train_reshaped, batch_size=1)\n",
        "# walk-forward validation on the val data\n",
        "predictions = list()\n",
        "for i in range(len(val_scaled)):\n",
        "# make one-step forecast\n",
        "  X, y = val_scaled[i, 0:-1], val_scaled[i, -1]\n",
        "  yhat = forecast_lstm(lstm_model, 1, X)\n",
        "\t# invert scaling\n",
        "  yhat = invert_scale(scaler, X, yhat)\n",
        "\t# invert differencing\n",
        "  #yhat = inverse_difference(raw_val_values, yhat, len(val_scaled)+1-i)\n",
        "\t# store forecast\n",
        "  predictions.append(yhat)\n",
        "  expected = series.values[len(raw_train_values)+i+1]\n",
        "  print('Week=%d, Predicted=%f, Expected=%f' % (i+1, yhat, expected))\n",
        ""
      ],
      "metadata": {
        "colab": {
          "base_uri": "https://localhost:8080/"
        },
        "id": "8UjCRDVVSWkG",
        "outputId": "bddda8e3-4605-4034-c08e-d20ae341216f"
      },
      "execution_count": null,
      "outputs": [
        {
          "output_type": "stream",
          "name": "stdout",
          "text": [
            "Week=1, Predicted=2.449191, Expected=2.330000\n",
            "Week=2, Predicted=2.517507, Expected=2.160000\n",
            "Week=3, Predicted=2.475763, Expected=2.630000\n",
            "Week=4, Predicted=2.371751, Expected=2.980000\n",
            "Week=5, Predicted=2.520226, Expected=2.490000\n",
            "Week=6, Predicted=2.658343, Expected=2.390000\n",
            "Week=7, Predicted=2.634866, Expected=2.910000\n",
            "Week=8, Predicted=2.529904, Expected=2.650000\n",
            "Week=9, Predicted=2.668025, Expected=3.640000\n",
            "Week=10, Predicted=2.661336, Expected=2.830000\n",
            "Week=11, Predicted=2.760111, Expected=2.560000\n",
            "Week=12, Predicted=2.771285, Expected=2.410000\n",
            "Week=13, Predicted=2.651370, Expected=2.490000\n",
            "Week=14, Predicted=2.518579, Expected=2.590000\n",
            "Week=15, Predicted=2.452953, Expected=2.590000\n",
            "Week=16, Predicted=2.455115, Expected=2.440000\n",
            "Week=17, Predicted=2.471927, Expected=2.100000\n",
            "Week=18, Predicted=2.424894, Expected=2.540000\n",
            "Week=19, Predicted=2.270611, Expected=2.820000\n",
            "Week=20, Predicted=2.433576, Expected=2.630000\n",
            "Week=21, Predicted=2.581817, Expected=2.520000\n",
            "Week=22, Predicted=2.627136, Expected=2.710000\n",
            "Week=23, Predicted=2.589828, Expected=2.560000\n",
            "Week=24, Predicted=2.632059, Expected=2.590000\n",
            "Week=25, Predicted=2.591982, Expected=2.490000\n",
            "Week=26, Predicted=2.577230, Expected=2.460000\n",
            "Week=27, Predicted=2.517625, Expected=2.370000\n",
            "Week=28, Predicted=2.462586, Expected=2.570000\n",
            "Week=29, Predicted=2.387794, Expected=2.540000\n",
            "Week=30, Predicted=2.480231, Expected=2.570000\n",
            "Week=31, Predicted=2.530048, Expected=2.490000\n",
            "Week=32, Predicted=2.569615, Expected=2.290000\n",
            "Week=33, Predicted=2.555409, Expected=2.520000\n",
            "Week=34, Predicted=2.459847, Expected=2.480000\n",
            "Week=35, Predicted=2.510001, Expected=2.260000\n",
            "Week=36, Predicted=2.522988, Expected=2.360000\n",
            "Week=37, Predicted=2.439956, Expected=2.690000\n",
            "Week=38, Predicted=2.433740, Expected=2.620000\n",
            "Week=39, Predicted=2.566644, Expected=2.390000\n",
            "Week=40, Predicted=2.612519, Expected=1.860000\n",
            "Week=41, Predicted=2.543713, Expected=2.390000\n",
            "Week=42, Predicted=2.383727, Expected=2.000000\n",
            "Week=43, Predicted=2.400039, Expected=2.080000\n",
            "Week=44, Predicted=2.293833, Expected=2.520000\n",
            "Week=45, Predicted=2.270811, Expected=2.070000\n",
            "Week=46, Predicted=2.361950, Expected=2.350000\n",
            "Week=47, Predicted=2.248577, Expected=2.390000\n",
            "Week=48, Predicted=2.332168, Expected=1.710000\n",
            "Week=49, Predicted=2.315061, Expected=2.000000\n",
            "Week=50, Predicted=2.182733, Expected=2.360000\n",
            "Week=51, Predicted=2.202036, Expected=2.370000\n",
            "Week=52, Predicted=2.256158, Expected=2.200000\n",
            "Week=53, Predicted=2.280404, Expected=2.370000\n",
            "Week=54, Predicted=2.259598, Expected=2.400000\n",
            "Week=55, Predicted=2.298259, Expected=2.360000\n",
            "Week=56, Predicted=2.303871, Expected=2.610000\n",
            "Week=57, Predicted=2.318025, Expected=2.620000\n",
            "Week=58, Predicted=2.393007, Expected=2.710000\n",
            "Week=59, Predicted=2.449436, Expected=2.790000\n",
            "Week=60, Predicted=2.589010, Expected=2.660000\n",
            "Week=61, Predicted=2.677153, Expected=2.780000\n",
            "Week=62, Predicted=2.678106, Expected=2.440000\n",
            "Week=63, Predicted=2.696226, Expected=2.710000\n",
            "Week=64, Predicted=2.552291, Expected=2.590000\n",
            "Week=65, Predicted=2.613338, Expected=2.600000\n",
            "Week=66, Predicted=2.583361, Expected=2.470000\n",
            "Week=67, Predicted=2.558726, Expected=2.100000\n",
            "Week=68, Predicted=2.472001, Expected=2.190000\n",
            "Week=69, Predicted=2.237000, Expected=2.140000\n",
            "Week=70, Predicted=2.195392, Expected=2.000000\n",
            "Week=71, Predicted=2.242616, Expected=2.330000\n",
            "Week=72, Predicted=2.201859, Expected=2.230000\n",
            "Week=73, Predicted=2.268579, Expected=1.860000\n",
            "Week=74, Predicted=2.246070, Expected=2.440000\n"
          ]
        }
      ]
    },
    {
      "cell_type": "code",
      "source": [
        "# report performance\n",
        "rmse = sqrt(mean_squared_error(raw_val_values, predictions))\n",
        "print('Test RMSE: %.3f' % rmse)\n",
        "# line plot of observed vs predicted\n",
        "pyplot.plot(raw_val_values)\n",
        "pyplot.plot(predictions)\n",
        "pyplot.show()"
      ],
      "metadata": {
        "colab": {
          "base_uri": "https://localhost:8080/",
          "height": 283
        },
        "id": "XfsTwXa-krCP",
        "outputId": "3f29fb06-6c5d-4a75-8130-f9e87ef3ee7a"
      },
      "execution_count": null,
      "outputs": [
        {
          "output_type": "stream",
          "name": "stdout",
          "text": [
            "Test RMSE: 0.247\n"
          ]
        },
        {
          "output_type": "display_data",
          "data": {
            "text/plain": [
              "<Figure size 432x288 with 1 Axes>"
            ],
            "image/png": "[encoded data removed]"
          },
          "metadata": {
            "needs_background": "light"
          }
        }
      ]
    },
    {
      "cell_type": "code",
      "source": [
        "# walk-forward validation on the test data\n",
        "predictions_test = list()\n",
        "for i in range(len(test_scaled)):\n",
        "# make one-step forecast\n",
        "  X, y = test_scaled[i, 0:-1], test_scaled[i, -1]\n",
        "  yhat = forecast_lstm(lstm_model, 1, X)\n",
        "\t# invert scaling\n",
        "  yhat = invert_scale(scaler, X, yhat)\n",
        "\t# invert differencing\n",
        "  #yhat = inverse_difference(raw_test_values, yhat, len(test_scaled)+1-i)\n",
        "\t# store forecast\n",
        "  predictions_test.append(yhat)\n",
        "  expected = series.values[len(raw_train_values)+len(raw_val_values)+i]\n",
        "  print('Week=%d, Predicted=%f, Expected=%f' % (i+1, yhat, expected))\n",
        ""
      ],
      "metadata": {
        "colab": {
          "base_uri": "https://localhost:8080/"
        },
        "id": "qs7X0FyJgbpD",
        "outputId": "4e6bff34-71de-4f09-dada-d0845e474011"
      },
      "execution_count": null,
      "outputs": [
        {
          "output_type": "stream",
          "name": "stdout",
          "text": [
            "Week=1, Predicted=1.993653, Expected=2.440000\n",
            "Week=2, Predicted=2.178811, Expected=2.450000\n",
            "Week=3, Predicted=2.276561, Expected=2.100000\n",
            "Week=4, Predicted=2.228421, Expected=2.500000\n",
            "Week=5, Predicted=2.330855, Expected=2.300000\n",
            "Week=6, Predicted=2.266918, Expected=2.650000\n",
            "Week=7, Predicted=2.412682, Expected=2.550000\n",
            "Week=8, Predicted=2.403752, Expected=2.680000\n",
            "Week=9, Predicted=2.550107, Expected=2.890000\n",
            "Week=10, Predicted=2.675145, Expected=2.520000\n",
            "Week=11, Predicted=2.660451, Expected=3.330000\n",
            "Week=12, Predicted=2.754196, Expected=2.520000\n",
            "Week=13, Predicted=2.633504, Expected=2.310000\n",
            "Week=14, Predicted=2.479200, Expected=2.440000\n",
            "Week=15, Predicted=2.421260, Expected=2.480000\n",
            "Week=16, Predicted=2.419472, Expected=2.460000\n",
            "Week=17, Predicted=2.440546, Expected=2.360000\n",
            "Week=18, Predicted=2.425036, Expected=2.560000\n",
            "Week=19, Predicted=2.512684, Expected=1.980000\n",
            "Week=20, Predicted=2.381614, Expected=2.240000\n",
            "Week=21, Predicted=2.360322, Expected=2.420000\n",
            "Week=22, Predicted=2.397622, Expected=2.540000\n",
            "Week=23, Predicted=2.460015, Expected=2.440000\n",
            "Week=24, Predicted=2.468101, Expected=1.980000\n",
            "Week=25, Predicted=2.338349, Expected=2.440000\n",
            "Week=26, Predicted=2.412484, Expected=2.100000\n",
            "Week=27, Predicted=2.306458, Expected=1.860000\n",
            "Week=28, Predicted=2.237558, Expected=2.170000\n",
            "Week=29, Predicted=2.246277, Expected=2.340000\n",
            "Week=30, Predicted=2.275332, Expected=2.255000\n",
            "Week=31, Predicted=2.271925, Expected=2.420000\n",
            "Week=32, Predicted=2.319198, Expected=2.210000\n",
            "Week=33, Predicted=2.264978, Expected=2.250000\n",
            "Week=34, Predicted=2.287943, Expected=2.850000\n",
            "Week=35, Predicted=2.441387, Expected=2.600000\n",
            "Week=36, Predicted=2.499346, Expected=2.780000\n",
            "Week=37, Predicted=2.635014, Expected=2.090000\n",
            "Week=38, Predicted=2.560879, Expected=2.780000\n",
            "Week=39, Predicted=2.637433, Expected=3.110000\n",
            "Week=40, Predicted=2.731018, Expected=3.000000\n",
            "Week=41, Predicted=2.783986, Expected=2.540000\n",
            "Week=42, Predicted=2.617910, Expected=2.440000\n",
            "Week=43, Predicted=2.528700, Expected=2.500000\n",
            "Week=44, Predicted=2.488916, Expected=2.990000\n",
            "Week=45, Predicted=2.652064, Expected=2.050000\n",
            "Week=46, Predicted=2.577842, Expected=2.070000\n",
            "Week=47, Predicted=2.327623, Expected=2.410000\n",
            "Week=48, Predicted=2.295798, Expected=2.830000\n",
            "Week=49, Predicted=2.550713, Expected=2.260000\n",
            "Week=50, Predicted=2.490441, Expected=2.730000\n",
            "Week=51, Predicted=2.609418, Expected=2.730000\n",
            "Week=52, Predicted=2.660973, Expected=2.590000\n",
            "Week=53, Predicted=2.625238, Expected=2.910000\n",
            "Week=54, Predicted=2.702834, Expected=1.920000\n",
            "Week=55, Predicted=2.651060, Expected=2.420000\n",
            "Week=56, Predicted=2.468522, Expected=2.620000\n",
            "Week=57, Predicted=2.511015, Expected=2.580000\n",
            "Week=58, Predicted=2.522533, Expected=2.960000\n",
            "Week=59, Predicted=2.661609, Expected=2.710000\n",
            "Week=60, Predicted=2.671889, Expected=2.930000\n",
            "Week=61, Predicted=2.737220, Expected=2.620000\n",
            "Week=62, Predicted=2.643325, Expected=2.970000\n",
            "Week=63, Predicted=2.730176, Expected=3.000000\n",
            "Week=64, Predicted=2.796098, Expected=2.950000\n",
            "Week=65, Predicted=2.819682, Expected=2.610000\n",
            "Week=66, Predicted=2.659847, Expected=2.520000\n",
            "Week=67, Predicted=2.583915, Expected=2.410000\n",
            "Week=68, Predicted=2.474311, Expected=2.570000\n",
            "Week=69, Predicted=2.479748, Expected=2.720000\n",
            "Week=70, Predicted=2.560420, Expected=2.160000\n",
            "Week=71, Predicted=2.409782, Expected=2.960000\n",
            "Week=72, Predicted=2.627469, Expected=2.350000\n",
            "Week=73, Predicted=2.567226, Expected=2.210000\n",
            "Week=74, Predicted=2.398225, Expected=2.630000\n",
            "Week=75, Predicted=2.513331, Expected=2.190000\n",
            "Week=76, Predicted=2.406781, Expected=2.410000\n",
            "Week=77, Predicted=2.434993, Expected=2.620000\n",
            "Week=78, Predicted=2.537809, Expected=2.210000\n",
            "Week=79, Predicted=2.451445, Expected=2.410000\n",
            "Week=80, Predicted=2.463760, Expected=2.470000\n",
            "Week=81, Predicted=2.492690, Expected=2.520000\n",
            "Week=82, Predicted=2.530458, Expected=2.550000\n",
            "Week=83, Predicted=2.562289, Expected=2.510000\n",
            "Week=84, Predicted=2.560226, Expected=2.640000\n",
            "Week=85, Predicted=2.600878, Expected=2.350000\n",
            "Week=86, Predicted=2.511745, Expected=2.160000\n",
            "Week=87, Predicted=2.366633, Expected=2.670000\n",
            "Week=88, Predicted=2.541687, Expected=2.680000\n",
            "Week=89, Predicted=2.617875, Expected=2.480000\n",
            "Week=90, Predicted=2.583954, Expected=2.830000\n",
            "Week=91, Predicted=2.666052, Expected=2.790000\n"
          ]
        }
      ]
    },
    {
      "cell_type": "code",
      "source": [
        "# line plot of observed vs predicted\n",
        "pyplot.plot(raw_test_values)\n",
        "pyplot.plot(predictions_test)\n",
        "pyplot.show()"
      ],
      "metadata": {
        "colab": {
          "base_uri": "https://localhost:8080/",
          "height": 269
        },
        "id": "GhQ5HdPcbKXK",
        "outputId": "36940cba-c681-41ba-bb61-8b2e9e0f2417"
      },
      "execution_count": null,
      "outputs": [
        {
          "output_type": "display_data",
          "data": {
            "text/plain": [
              "<Figure size 432x288 with 1 Axes>"
            ],
            "image/png": "[encoded data removed]"
          },
          "metadata": {
            "needs_background": "light"
          }
        }
      ]
    },
    {
      "cell_type": "code",
      "source": [
        "# report performance\n",
        "rmse = sqrt(mean_squared_error(raw_test_values, predictions_test))\n",
        "print('Test RMSE: %.3f' % rmse)\n",
        "\n"
      ],
      "metadata": {
        "colab": {
          "base_uri": "https://localhost:8080/"
        },
        "id": "9ktZWPSocN2N",
        "outputId": "ecd0fd06-a83f-4dca-e5a7-1f59596fa7fc"
      },
      "execution_count": null,
      "outputs": [
        {
          "output_type": "stream",
          "name": "stdout",
          "text": [
            "Test RMSE: 0.289\n"
          ]
        }
      ]
    },
    {
      "cell_type": "code",
      "source": [
        "mse = mean_squared_error(raw_test_values, predictions_test)\n",
        "print('Test MSE: %.3f' % mse)"
      ],
      "metadata": {
        "colab": {
          "base_uri": "https://localhost:8080/"
        },
        "id": "MsTcu5qGkj_W",
        "outputId": "a2299a7b-0e54-4469-99ae-c00402b0c187"
      },
      "execution_count": null,
      "outputs": [
        {
          "output_type": "stream",
          "name": "stdout",
          "text": [
            "Test MSE: 0.083\n"
          ]
        }
      ]
    },
    {
      "cell_type": "code",
      "source": [
        "rolling_residuals = raw_test_values - predictions_test\n",
        "\n",
        "print('Root Mean Squared Error:', np.sqrt(np.mean(rolling_residuals**2)))"
      ],
      "metadata": {
        "colab": {
          "base_uri": "https://localhost:8080/"
        },
        "id": "X-Jq-l9Z5Cb5",
        "outputId": "28558367-bfdb-45bb-bba0-3bae7b10ec3d"
      },
      "execution_count": null,
      "outputs": [
        {
          "output_type": "stream",
          "name": "stdout",
          "text": [
            "Root Mean Squared Error: 0.2886820107937824\n"
          ]
        }
      ]
    },
    {
      "cell_type": "code",
      "source": [
        "ss_res = np.sum(rolling_residuals**2)\n",
        "ss_tot = np.sum(raw_test_values**2)\n",
        "R_squared = 1 - (ss_res/ss_tot)\n",
        "R_squared\n",
        "\n"
      ],
      "metadata": {
        "colab": {
          "base_uri": "https://localhost:8080/"
        },
        "id": "x4UAk-YIpKLo",
        "outputId": "93fb9c61-1aea-4708-f70c-d80de0180274"
      },
      "execution_count": null,
      "outputs": [
        {
          "output_type": "execute_result",
          "data": {
            "text/plain": [
              "0.9869818640306328"
            ]
          },
          "metadata": {},
          "execution_count": 25
        }
      ]
    }
  ]
}