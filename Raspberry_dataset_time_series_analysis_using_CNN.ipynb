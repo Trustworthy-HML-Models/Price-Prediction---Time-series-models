{
  "nbformat": 4,
  "nbformat_minor": 0,
  "metadata": {
    "colab": {
      "provenance": []
    },
    "kernelspec": {
      "name": "python3",
      "display_name": "Python 3"
    },
    "language_info": {
      "name": "python"
    }
  },
  "cells": [
    {
      "cell_type": "code",
      "execution_count": null,
      "metadata": {
        "colab": {
          "base_uri": "https://localhost:8080/"
        },
        "id": "erzPeWmNVONS",
        "outputId": "86d61523-a206-486e-8623-a1140dcc079b"
      },
      "outputs": [
        {
          "output_type": "stream",
          "name": "stderr",
          "text": [
            "/usr/local/lib/python3.7/dist-packages/ipykernel_launcher.py:5: FutureWarning: The pandas.datetime class is deprecated and will be removed from pandas in a future version. Import from datetime module instead.\n",
            "  \"\"\"\n"
          ]
        }
      ],
      "source": [
        "from pandas import DataFrame\n",
        "from pandas import Series\n",
        "from pandas import concat\n",
        "from pandas import read_csv\n",
        "from pandas import datetime\n",
        "from sklearn.metrics import mean_squared_error\n",
        "from sklearn.preprocessing import MinMaxScaler\n",
        "from keras.models import Sequential\n",
        "from keras.layers import Dense\n",
        "from matplotlib import pyplot\n",
        "import matplotlib.pyplot as plt\n",
        "import pandas as pd\n",
        "import numpy as np\n",
        "from time import time\n",
        "from datetime import timedelta\n",
        "from math import sqrt\n",
        "from numpy import array\n",
        "from numpy import mean\n",
        "from numpy import std\n",
        "from sklearn.metrics import r2_score\n",
        "from keras.layers import Flatten\n",
        "from keras.layers.convolutional import Conv1D\n",
        "from keras.layers.convolutional import MaxPooling1D"
      ]
    },
    {
      "cell_type": "code",
      "source": [
        "def parser(x):\n",
        "\treturn datetime.strptime(x, '%d-%b-%y')"
      ],
      "metadata": {
        "id": "1_7yHVdCXQVX"
      },
      "execution_count": null,
      "outputs": []
    },
    {
      "cell_type": "code",
      "source": [
        "\n",
        "# split a univariate dataset into train/test sets\n",
        "def train_test_split():\n",
        "  train_end = datetime(2019,1,1)\n",
        "  val_end = datetime(2020,6,1)\n",
        "  test_end = datetime(2022,3,1)\n",
        "\n",
        "  train_data = series[:train_end]\n",
        "  val_data = series[train_end + timedelta(days=1):val_end]\n",
        "  test_data = series[val_end + timedelta(days=1):test_end]\n",
        "\n",
        "  return train_data.values, val_data.values,  test_data.values"
      ],
      "metadata": {
        "id": "bqoWJtRqV409"
      },
      "execution_count": null,
      "outputs": []
    },
    {
      "cell_type": "code",
      "source": [
        "\n",
        "# transform list into supervised learning format\n",
        "def series_to_supervised(data, n_in, n_out=1):\n",
        "  df = DataFrame(data)\n",
        "  cols = list()\n",
        "  # input sequence (t-n, ... t-1)\n",
        "  for i in range(n_in, 0, -1):\n",
        "    cols.append(df.shift(i))\n",
        "  # forecast sequence (t, t+1, ... t+n)\n",
        "  for i in range(0, n_out):\n",
        "    cols.append(df.shift(-i))\n",
        "  # put it all together\n",
        "  agg = concat(cols, axis=1)\n",
        "  # drop rows with NaN values\n",
        "  agg.dropna(inplace=True)\n",
        "  return agg.values"
      ],
      "metadata": {
        "id": "4RVq2I2lV860"
      },
      "execution_count": null,
      "outputs": []
    },
    {
      "cell_type": "code",
      "source": [
        "# root mean squared error or rmse\n",
        "def measure_rmse(actual, predicted):\n",
        "  return sqrt(mean_squared_error(actual, predicted))"
      ],
      "metadata": {
        "id": "cWI9CwMuWN04"
      },
      "execution_count": null,
      "outputs": []
    },
    {
      "cell_type": "code",
      "source": [
        "def measure_mse(actual, predicted):\n",
        "    return mean_squared_error(actual, predicted)"
      ],
      "metadata": {
        "id": "Y8fHQyV-ZuOa"
      },
      "execution_count": null,
      "outputs": []
    },
    {
      "cell_type": "code",
      "source": [
        "def measure_R2(actual, predicted):\n",
        "  a,b,c=train_test_split()\n",
        "  rolling_residuals = b - predicted\n",
        "  ss_res = np.sum(rolling_residuals**2)\n",
        "  ss_tot = np.sum(b**2)\n",
        "  R_squared = 1 - (ss_res/ss_tot)\n",
        "  print(R_squared)\n",
        "  return R_squared"
      ],
      "metadata": {
        "id": "a0N9CHsjZxjG"
      },
      "execution_count": null,
      "outputs": []
    },
    {
      "cell_type": "code",
      "source": [
        "def plotting(actual, predicted):\n",
        "  pyplot.plot(actual)\n",
        "  pyplot.plot(predicted)\n",
        "  pyplot.show()"
      ],
      "metadata": {
        "id": "zXxypPwhXarO"
      },
      "execution_count": null,
      "outputs": []
    },
    {
      "cell_type": "code",
      "source": [
        "# fit a model\n",
        "def model_fit(train, config):\n",
        "  # unpack config\n",
        "  n_input, n_filters, n_kernel, n_epochs, n_batch = config\n",
        "  # prepare data\n",
        "  data = series_to_supervised(train, n_input)\n",
        "  train_x, train_y = data[:, :-1], data[:, -1]\n",
        "  train_x = train_x.reshape((train_x.shape[0], train_x.shape[1], 1))\n",
        "  # define model\n",
        "  model = Sequential()\n",
        "  model.add(Conv1D(filters=n_filters, kernel_size=n_kernel, activation='relu',input_shape=(n_input, 1)))\n",
        "  model.add(Conv1D(filters=n_filters, kernel_size=n_kernel, activation='relu'))\n",
        "  model.add(MaxPooling1D(pool_size=2))\n",
        "  model.add(Flatten())\n",
        "  model.add(Dense(1))\n",
        "  model.compile(loss='mse', optimizer='adam')\n",
        "  # fit\n",
        "  model.fit(train_x, train_y, epochs=n_epochs, batch_size=n_batch, verbose=0)\n",
        "  return model\n"
      ],
      "metadata": {
        "id": "boyfbFLNWSW9"
      },
      "execution_count": null,
      "outputs": []
    },
    {
      "cell_type": "code",
      "source": [
        "# forecast with a pre-fit model\n",
        "def model_predict(model, history, config):\n",
        "  # unpack config\n",
        "  n_input, _, _, _, _ = config\n",
        "  # prepare data\n",
        "  x_input = array(history[-n_input:]).reshape((1, n_input, 1))\n",
        "  # forecast\n",
        "  yhat = model.predict(x_input, verbose=0)\n",
        "  return yhat[0]"
      ],
      "metadata": {
        "id": "uc7ahzIJWicc"
      },
      "execution_count": null,
      "outputs": []
    },
    {
      "cell_type": "code",
      "source": [
        "# walk-forward validation for univariate data\n",
        "def walk_forward_validation(data, n_test, cfg):\n",
        "  predictions = list()\n",
        "  # split dataset\n",
        "  train,val,test = train_test_split()\n",
        "  # fit model\n",
        "  model = model_fit(train, cfg)\n",
        "  # seed history with training dataset\n",
        "  history = [x for x in train]\n",
        "  # step over each time-step in the test set\n",
        "  for i in range(len(val)):\n",
        "    # fit model and make forecast for history\n",
        "    yhat = model_predict(model, history, cfg)\n",
        "    # store forecast in list of predictions\n",
        "    predictions.append(yhat)\n",
        "    # add actual observation to history for the next loop\n",
        "    history.append(val[i])\n",
        "    # estimate prediction error\n",
        "  error1 = measure_rmse(val, predictions)\n",
        "  error2 = measure_mse(val, predictions)\n",
        "  error3 = measure_R2(val, predictions)\n",
        "  graph = plotting(val, predictions)\n",
        "  print(' > %.3f' % error1)\n",
        "  print(' > %.3f' % error2)\n",
        "  print(' > %.3f' % error3)\n",
        "  return error1,error2,error3"
      ],
      "metadata": {
        "id": "mneWWjxDWpUE"
      },
      "execution_count": null,
      "outputs": []
    },
    {
      "cell_type": "code",
      "source": [
        "# repeat evaluation of a config\n",
        "def repeat_evaluate(data, config, n_test, n_repeats=1):\n",
        "  # fit and evaluate the model n times\n",
        "  RMSE,MSE,R2= walk_forward_validation(data, n_test, config)\n",
        "  RMSE_scores = [RMSE for _ in range(n_repeats)]\n",
        "  MSE_scores = [MSE for _ in range(n_repeats)]\n",
        "  R2_scores = [R2 for _ in range(n_repeats)]\n",
        "\n",
        "  return RMSE_scores, MSE_scores, R2_scores"
      ],
      "metadata": {
        "id": "3nHkpR2xWy6o"
      },
      "execution_count": null,
      "outputs": []
    },
    {
      "cell_type": "code",
      "source": [
        "# summarize model performance\n",
        "def summarize_scores(name, scores):\n",
        "  # print a summary\n",
        "  scores_m, score_std = mean(scores), std(scores)\n",
        "  print('%s: %.3f RMSE (+/- %.3f)' % (name, scores_m, score_std))\n",
        "  # box and whisker plot\n",
        "  #pyplot.boxplot(scores)\n",
        "  #pyplot.show()\n",
        ""
      ],
      "metadata": {
        "id": "_L3sYXkLVeGC"
      },
      "execution_count": null,
      "outputs": []
    },
    {
      "cell_type": "code",
      "source": [
        "series = read_csv('/content/sample_data/Raspberry.csv', header=0, parse_dates=[0], index_col=0, squeeze=True, date_parser=parser)\n",
        "data = series.values\n",
        "series"
      ],
      "metadata": {
        "colab": {
          "base_uri": "https://localhost:8080/"
        },
        "id": "KoBbXdsRXA2D",
        "outputId": "3b54695b-6064-47f6-f591-7d7ae34752b6"
      },
      "execution_count": null,
      "outputs": [
        {
          "output_type": "execute_result",
          "data": {
            "text/plain": [
              "Date\n",
              "2010-11-19    2.40\n",
              "2010-11-26    2.51\n",
              "2010-12-03    2.24\n",
              "2010-12-10    2.73\n",
              "2010-12-17    3.32\n",
              "              ... \n",
              "2022-01-28    2.67\n",
              "2022-02-04    2.68\n",
              "2022-02-11    2.48\n",
              "2022-02-18    2.83\n",
              "2022-02-25    2.79\n",
              "Name: Price, Length: 589, dtype: float64"
            ]
          },
          "metadata": {},
          "execution_count": 15
        }
      ]
    },
    {
      "cell_type": "code",
      "source": [
        "# data split\n",
        "n_test = 91\n",
        "# define config\n",
        "config = [74, 256, 1, 1500, 100]\n",
        "# grid search\n",
        "RMSE_score,MSE_score,R2_score= repeat_evaluate(data, config, n_test)\n",
        "# summarize scores\n",
        "summarize_scores('cnn', RMSE_score)\n",
        "summarize_scores('cnn', MSE_score)\n",
        "summarize_scores('cnn', R2_score)"
      ],
      "metadata": {
        "colab": {
          "base_uri": "https://localhost:8080/",
          "height": 392
        },
        "id": "sdLVJ1_EXGZz",
        "outputId": "2b8b53ca-4534-4f9b-e50f-6e790dd97723"
      },
      "execution_count": null,
      "outputs": [
        {
          "output_type": "stream",
          "name": "stdout",
          "text": [
            "-1.1896533061646029\n"
          ]
        },
        {
          "output_type": "display_data",
          "data": {
            "text/plain": [
              "<Figure size 432x288 with 1 Axes>"
            ],
            "image/png": "[encoded data removed]"
          },
          "metadata": {
            "needs_background": "light"
          }
        },
        {
          "output_type": "stream",
          "name": "stdout",
          "text": [
            " > 0.354\n",
            " > 0.125\n",
            " > -1.190\n",
            "cnn: 0.354 RMSE (+/- 0.000)\n",
            "cnn: 0.125 RMSE (+/- 0.000)\n",
            "cnn: -1.190 RMSE (+/- 0.000)\n"
          ]
        }
      ]
    }
  ]
}